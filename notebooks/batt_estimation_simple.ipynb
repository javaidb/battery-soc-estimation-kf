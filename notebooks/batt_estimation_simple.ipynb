{
 "cells": [
  {
   "cell_type": "code",
   "execution_count": null,
   "metadata": {},
   "outputs": [],
   "source": [
    "%load_ext autoreload\n",
    "%autoreload 2\n",
    "\n",
    "import sys\n",
    "import os\n",
    "import numpy as np\n",
    "import matplotlib.pyplot as plt\n",
    "from ipywidgets import interact, interactive, fixed\n",
    "import ipywidgets as widgets\n",
    "\n",
    "project_root = os.path.abspath(os.path.join(os.getcwd(), '..'))\n",
    "sys.path.append(project_root)"
   ]
  },
  {
   "cell_type": "code",
   "execution_count": null,
   "metadata": {},
   "outputs": [],
   "source": [
    "from utils.data_generator import generate_battery_data\n",
    "from models.soc_estimation import coulomb_counting\n",
    "from models.soh_estimation import capacity_fade\n",
    "\n",
    "time, voltage, current, temperature = generate_battery_data(1000)\n",
    "\n",
    "plt.figure(figsize=(12, 8))\n",
    "plt.subplot(311)\n",
    "plt.plot(time, voltage)\n",
    "plt.title('Voltage')\n",
    "plt.subplot(312)\n",
    "plt.plot(time, current)\n",
    "plt.title('Current')\n",
    "plt.subplot(313)\n",
    "plt.plot(time, temperature)\n",
    "plt.title('Temperature')\n",
    "plt.tight_layout()\n",
    "plt.show()\n",
    "\n",
    "# Estimate SOC\n",
    "initial_soc = 1.0\n",
    "capacity = 3000  # mAh\n",
    "soc = coulomb_counting(current, time, initial_soc, capacity)\n",
    "\n",
    "# Plot SOC\n",
    "plt.figure(figsize=(10, 6))\n",
    "plt.plot(time, soc)\n",
    "plt.title('State of Charge Estimation')\n",
    "plt.xlabel('Time (s)')\n",
    "plt.ylabel('SOC')\n",
    "plt.show()\n",
    "\n",
    "# Estimate SOH\n",
    "cycle_count = 100\n",
    "initial_capacity = 3000  # mAh\n",
    "soh = capacity_fade(cycle_count, initial_capacity)\n",
    "\n",
    "print(f\"SOH: {soh:.2f}\")\n",
    "\n",
    "# Paramter Exploration\n",
    "cycle_counts = range(0, 1001, 100)\n",
    "soh_values = [capacity_fade(c, initial_capacity) for c in cycle_counts]\n",
    "\n",
    "plt.figure(figsize=(10, 6))\n",
    "plt.plot(cycle_counts, soh_values)\n",
    "plt.title('State of Health vs Cycle Count')\n",
    "plt.xlabel('Cycle Count')\n",
    "plt.ylabel('SOH')\n",
    "plt.show()"
   ]
  },
  {
   "cell_type": "code",
   "execution_count": null,
   "metadata": {},
   "outputs": [],
   "source": [
    "@interact(capacity=(2000, 4000, 100))\n",
    "def plot_soc(capacity):\n",
    "    soc = coulomb_counting(current, time, initial_soc, capacity)\n",
    "    plt.figure(figsize=(10, 6))\n",
    "    plt.plot(time, soc)\n",
    "    plt.title(f'SOC Estimation (Capacity: {capacity} mAh)')\n",
    "    plt.xlabel('Time (s)')\n",
    "    plt.ylabel('SOC')\n",
    "    plt.show()"
   ]
  }
 ],
 "metadata": {
  "language_info": {
   "name": "python"
  }
 },
 "nbformat": 4,
 "nbformat_minor": 2
}
